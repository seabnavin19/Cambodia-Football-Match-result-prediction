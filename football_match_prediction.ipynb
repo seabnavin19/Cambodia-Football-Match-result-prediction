{
  "nbformat": 4,
  "nbformat_minor": 0,
  "metadata": {
    "colab": {
      "name": "football match prediction.ipynb",
      "provenance": [],
      "mount_file_id": "1wz7vPxz_44ZAcRMLLrz77m0R7bLUpZDQ",
      "authorship_tag": "ABX9TyMEJit0Wjp187KtdQpcZMLA",
      "include_colab_link": true
    },
    "kernelspec": {
      "name": "python3",
      "display_name": "Python 3"
    },
    "language_info": {
      "name": "python"
    }
  },
  "cells": [
    {
      "cell_type": "markdown",
      "metadata": {
        "id": "view-in-github",
        "colab_type": "text"
      },
      "source": [
        "<a href=\"https://colab.research.google.com/github/seabnavin19/Cambodia-Football-Match-result-prediction/blob/main/football_match_prediction.ipynb\" target=\"_parent\"><img src=\"https://colab.research.google.com/assets/colab-badge.svg\" alt=\"Open In Colab\"/></a>"
      ]
    },
    {
      "cell_type": "code",
      "metadata": {
        "id": "FGH4_-Wu2bUv"
      },
      "source": [
        "import pandas as pd\n",
        "import numpy as np\n",
        "import matplotlib.pyplot as plt"
      ],
      "execution_count": 41,
      "outputs": []
    },
    {
      "cell_type": "markdown",
      "metadata": {
        "id": "97Rin8Mf24M4"
      },
      "source": [
        "## Data installation"
      ]
    },
    {
      "cell_type": "code",
      "metadata": {
        "id": "Srl893jU2so1"
      },
      "source": [
        "#change current dir\n",
        "import os\n",
        "os.environ[\"KAGGLE_CONFIG_DIR\"]=\"/content/drive/MyDrive/kaggle\""
      ],
      "execution_count": 42,
      "outputs": []
    },
    {
      "cell_type": "code",
      "metadata": {
        "colab": {
          "base_uri": "https://localhost:8080/"
        },
        "id": "R8Y7NK7h2zPy",
        "outputId": "ae57856c-4526-4d0a-8215-63bf06cfa230"
      },
      "source": [
        "%cd /content/drive/MyDrive/kaggle"
      ],
      "execution_count": 3,
      "outputs": [
        {
          "output_type": "stream",
          "text": [
            "/content/drive/MyDrive/kaggle\n"
          ],
          "name": "stdout"
        }
      ]
    },
    {
      "cell_type": "code",
      "metadata": {
        "colab": {
          "base_uri": "https://localhost:8080/"
        },
        "id": "5AsU-ZaN3EGD",
        "outputId": "66696d65-5aec-4825-ae3a-98c7bed4e32d"
      },
      "source": [
        "!ls"
      ],
      "execution_count": null,
      "outputs": [
        {
          "output_type": "stream",
          "text": [
            "AAPL.csv  kaggle.json\t      nexflex\t    Rice_Final_Dataset\n",
            "churn\t  netflix_titles.csv  rice_disease  tes\n"
          ],
          "name": "stdout"
        }
      ]
    },
    {
      "cell_type": "code",
      "metadata": {
        "colab": {
          "base_uri": "https://localhost:8080/"
        },
        "id": "mTmm2s1p3MZM",
        "outputId": "0c1699e7-3fa4-4247-9aff-4a50a6e8c568"
      },
      "source": [
        "!kaggle datasets download -d martj42/international-football-results-from-1872-to-2017"
      ],
      "execution_count": null,
      "outputs": [
        {
          "output_type": "stream",
          "text": [
            "Downloading international-football-results-from-1872-to-2017.zip to /content/drive/MyDrive/kaggle\n",
            "\r  0% 0.00/549k [00:00<?, ?B/s]\n",
            "\r100% 549k/549k [00:00<00:00, 17.5MB/s]\n"
          ],
          "name": "stdout"
        }
      ]
    },
    {
      "cell_type": "code",
      "metadata": {
        "id": "8FktYnym3a97"
      },
      "source": [
        "!mkdir footballMatch"
      ],
      "execution_count": null,
      "outputs": []
    },
    {
      "cell_type": "code",
      "metadata": {
        "id": "TmpcVQJL3iUB"
      },
      "source": [
        "!mv international-football-results-from-1872-to-2017.zip footballMatch"
      ],
      "execution_count": null,
      "outputs": []
    },
    {
      "cell_type": "code",
      "metadata": {
        "colab": {
          "base_uri": "https://localhost:8080/"
        },
        "id": "tX_SDqvv3miV",
        "outputId": "7a550688-0789-472d-d3bf-604fcf29a2ee"
      },
      "source": [
        "%cd footballMatch/"
      ],
      "execution_count": null,
      "outputs": [
        {
          "output_type": "stream",
          "text": [
            "/content/drive/My Drive/kaggle/footballMatch\n"
          ],
          "name": "stdout"
        }
      ]
    },
    {
      "cell_type": "code",
      "metadata": {
        "colab": {
          "base_uri": "https://localhost:8080/"
        },
        "id": "HS-cUl8K3yf_",
        "outputId": "8f6da9ef-8563-4568-81b2-0f051884350f"
      },
      "source": [
        "!ls"
      ],
      "execution_count": null,
      "outputs": [
        {
          "output_type": "stream",
          "text": [
            "international-football-results-from-1872-to-2017.zip\n"
          ],
          "name": "stdout"
        }
      ]
    },
    {
      "cell_type": "code",
      "metadata": {
        "colab": {
          "base_uri": "https://localhost:8080/"
        },
        "id": "YspPlvp63z3v",
        "outputId": "44e0ef48-33c5-4e6d-9125-2e51b9a787c0"
      },
      "source": [
        "!unzip international-football-results-from-1872-to-2017.zip"
      ],
      "execution_count": null,
      "outputs": [
        {
          "output_type": "stream",
          "text": [
            "Archive:  international-football-results-from-1872-to-2017.zip\n",
            "  inflating: results.csv             \n",
            "  inflating: shootouts.csv           \n"
          ],
          "name": "stdout"
        }
      ]
    },
    {
      "cell_type": "code",
      "metadata": {
        "colab": {
          "base_uri": "https://localhost:8080/"
        },
        "id": "8DlrPx1N38EU",
        "outputId": "f4f6317c-af63-49dd-bbc2-01c1205801eb"
      },
      "source": [
        "!ls"
      ],
      "execution_count": null,
      "outputs": [
        {
          "output_type": "stream",
          "text": [
            "international-football-results-from-1872-to-2017.zip  shootouts.csv\n",
            "results.csv\n"
          ],
          "name": "stdout"
        }
      ]
    },
    {
      "cell_type": "code",
      "metadata": {
        "id": "JK7yamoR39IX"
      },
      "source": [
        ""
      ],
      "execution_count": null,
      "outputs": []
    },
    {
      "cell_type": "markdown",
      "metadata": {
        "id": "d0LrERib4CAu"
      },
      "source": [
        "## Data loading and Exploration\n"
      ]
    },
    {
      "cell_type": "code",
      "metadata": {
        "colab": {
          "base_uri": "https://localhost:8080/",
          "height": 204
        },
        "id": "Qbrzynlt4Dpu",
        "outputId": "4834d9b8-6a07-41ec-cfb8-e4e805483b64"
      },
      "source": [
        "df=pd.read_csv(\"/content/drive/MyDrive/kaggle/footballMatch/shootouts.csv\")\n",
        "df.head()"
      ],
      "execution_count": 43,
      "outputs": [
        {
          "output_type": "execute_result",
          "data": {
            "text/html": [
              "<div>\n",
              "<style scoped>\n",
              "    .dataframe tbody tr th:only-of-type {\n",
              "        vertical-align: middle;\n",
              "    }\n",
              "\n",
              "    .dataframe tbody tr th {\n",
              "        vertical-align: top;\n",
              "    }\n",
              "\n",
              "    .dataframe thead th {\n",
              "        text-align: right;\n",
              "    }\n",
              "</style>\n",
              "<table border=\"1\" class=\"dataframe\">\n",
              "  <thead>\n",
              "    <tr style=\"text-align: right;\">\n",
              "      <th></th>\n",
              "      <th>date</th>\n",
              "      <th>home_team</th>\n",
              "      <th>away_team</th>\n",
              "      <th>winner</th>\n",
              "    </tr>\n",
              "  </thead>\n",
              "  <tbody>\n",
              "    <tr>\n",
              "      <th>0</th>\n",
              "      <td>1967-08-22</td>\n",
              "      <td>India</td>\n",
              "      <td>Taiwan</td>\n",
              "      <td>Taiwan</td>\n",
              "    </tr>\n",
              "    <tr>\n",
              "      <th>1</th>\n",
              "      <td>1971-11-14</td>\n",
              "      <td>South Korea</td>\n",
              "      <td>Vietnam Republic</td>\n",
              "      <td>South Korea</td>\n",
              "    </tr>\n",
              "    <tr>\n",
              "      <th>2</th>\n",
              "      <td>1972-05-17</td>\n",
              "      <td>Thailand</td>\n",
              "      <td>South Korea</td>\n",
              "      <td>South Korea</td>\n",
              "    </tr>\n",
              "    <tr>\n",
              "      <th>3</th>\n",
              "      <td>1972-05-19</td>\n",
              "      <td>Thailand</td>\n",
              "      <td>Cambodia</td>\n",
              "      <td>Thailand</td>\n",
              "    </tr>\n",
              "    <tr>\n",
              "      <th>4</th>\n",
              "      <td>1973-07-26</td>\n",
              "      <td>Malaysia</td>\n",
              "      <td>Kuwait</td>\n",
              "      <td>Malaysia</td>\n",
              "    </tr>\n",
              "  </tbody>\n",
              "</table>\n",
              "</div>"
            ],
            "text/plain": [
              "         date    home_team         away_team       winner\n",
              "0  1967-08-22        India            Taiwan       Taiwan\n",
              "1  1971-11-14  South Korea  Vietnam Republic  South Korea\n",
              "2  1972-05-17     Thailand       South Korea  South Korea\n",
              "3  1972-05-19     Thailand          Cambodia     Thailand\n",
              "4  1973-07-26     Malaysia            Kuwait     Malaysia"
            ]
          },
          "metadata": {
            "tags": []
          },
          "execution_count": 43
        }
      ]
    },
    {
      "cell_type": "code",
      "metadata": {
        "colab": {
          "base_uri": "https://localhost:8080/",
          "height": 204
        },
        "id": "F_OtV8824Mv8",
        "outputId": "d3d20eb1-a05a-476a-f156-6924bc40d581"
      },
      "source": [
        "df_re=pd.read_csv(\"/content/drive/MyDrive/kaggle/footballMatch/results.csv\")\n",
        "df_re.head()"
      ],
      "execution_count": 44,
      "outputs": [
        {
          "output_type": "execute_result",
          "data": {
            "text/html": [
              "<div>\n",
              "<style scoped>\n",
              "    .dataframe tbody tr th:only-of-type {\n",
              "        vertical-align: middle;\n",
              "    }\n",
              "\n",
              "    .dataframe tbody tr th {\n",
              "        vertical-align: top;\n",
              "    }\n",
              "\n",
              "    .dataframe thead th {\n",
              "        text-align: right;\n",
              "    }\n",
              "</style>\n",
              "<table border=\"1\" class=\"dataframe\">\n",
              "  <thead>\n",
              "    <tr style=\"text-align: right;\">\n",
              "      <th></th>\n",
              "      <th>date</th>\n",
              "      <th>home_team</th>\n",
              "      <th>away_team</th>\n",
              "      <th>home_score</th>\n",
              "      <th>away_score</th>\n",
              "      <th>tournament</th>\n",
              "      <th>city</th>\n",
              "      <th>country</th>\n",
              "      <th>neutral</th>\n",
              "    </tr>\n",
              "  </thead>\n",
              "  <tbody>\n",
              "    <tr>\n",
              "      <th>0</th>\n",
              "      <td>1872-11-30</td>\n",
              "      <td>Scotland</td>\n",
              "      <td>England</td>\n",
              "      <td>0</td>\n",
              "      <td>0</td>\n",
              "      <td>Friendly</td>\n",
              "      <td>Glasgow</td>\n",
              "      <td>Scotland</td>\n",
              "      <td>False</td>\n",
              "    </tr>\n",
              "    <tr>\n",
              "      <th>1</th>\n",
              "      <td>1873-03-08</td>\n",
              "      <td>England</td>\n",
              "      <td>Scotland</td>\n",
              "      <td>4</td>\n",
              "      <td>2</td>\n",
              "      <td>Friendly</td>\n",
              "      <td>London</td>\n",
              "      <td>England</td>\n",
              "      <td>False</td>\n",
              "    </tr>\n",
              "    <tr>\n",
              "      <th>2</th>\n",
              "      <td>1874-03-07</td>\n",
              "      <td>Scotland</td>\n",
              "      <td>England</td>\n",
              "      <td>2</td>\n",
              "      <td>1</td>\n",
              "      <td>Friendly</td>\n",
              "      <td>Glasgow</td>\n",
              "      <td>Scotland</td>\n",
              "      <td>False</td>\n",
              "    </tr>\n",
              "    <tr>\n",
              "      <th>3</th>\n",
              "      <td>1875-03-06</td>\n",
              "      <td>England</td>\n",
              "      <td>Scotland</td>\n",
              "      <td>2</td>\n",
              "      <td>2</td>\n",
              "      <td>Friendly</td>\n",
              "      <td>London</td>\n",
              "      <td>England</td>\n",
              "      <td>False</td>\n",
              "    </tr>\n",
              "    <tr>\n",
              "      <th>4</th>\n",
              "      <td>1876-03-04</td>\n",
              "      <td>Scotland</td>\n",
              "      <td>England</td>\n",
              "      <td>3</td>\n",
              "      <td>0</td>\n",
              "      <td>Friendly</td>\n",
              "      <td>Glasgow</td>\n",
              "      <td>Scotland</td>\n",
              "      <td>False</td>\n",
              "    </tr>\n",
              "  </tbody>\n",
              "</table>\n",
              "</div>"
            ],
            "text/plain": [
              "         date home_team away_team  ...     city   country neutral\n",
              "0  1872-11-30  Scotland   England  ...  Glasgow  Scotland   False\n",
              "1  1873-03-08   England  Scotland  ...   London   England   False\n",
              "2  1874-03-07  Scotland   England  ...  Glasgow  Scotland   False\n",
              "3  1875-03-06   England  Scotland  ...   London   England   False\n",
              "4  1876-03-04  Scotland   England  ...  Glasgow  Scotland   False\n",
              "\n",
              "[5 rows x 9 columns]"
            ]
          },
          "metadata": {
            "tags": []
          },
          "execution_count": 44
        }
      ]
    },
    {
      "cell_type": "code",
      "metadata": {
        "colab": {
          "base_uri": "https://localhost:8080/",
          "height": 419
        },
        "id": "MWqu6_h_4Siu",
        "outputId": "52d7cc88-3906-43bc-bd0f-e7c57b4443a0"
      },
      "source": [
        "df_re[(df_re[\"home_team\"]==\"Cambodia\") | (df_re[\"away_team\"]==\"Cambodia\")]"
      ],
      "execution_count": 45,
      "outputs": [
        {
          "output_type": "execute_result",
          "data": {
            "text/html": [
              "<div>\n",
              "<style scoped>\n",
              "    .dataframe tbody tr th:only-of-type {\n",
              "        vertical-align: middle;\n",
              "    }\n",
              "\n",
              "    .dataframe tbody tr th {\n",
              "        vertical-align: top;\n",
              "    }\n",
              "\n",
              "    .dataframe thead th {\n",
              "        text-align: right;\n",
              "    }\n",
              "</style>\n",
              "<table border=\"1\" class=\"dataframe\">\n",
              "  <thead>\n",
              "    <tr style=\"text-align: right;\">\n",
              "      <th></th>\n",
              "      <th>date</th>\n",
              "      <th>home_team</th>\n",
              "      <th>away_team</th>\n",
              "      <th>home_score</th>\n",
              "      <th>away_score</th>\n",
              "      <th>tournament</th>\n",
              "      <th>city</th>\n",
              "      <th>country</th>\n",
              "      <th>neutral</th>\n",
              "    </tr>\n",
              "  </thead>\n",
              "  <tbody>\n",
              "    <tr>\n",
              "      <th>3731</th>\n",
              "      <td>1954-11-01</td>\n",
              "      <td>Cambodia</td>\n",
              "      <td>Thailand</td>\n",
              "      <td>7</td>\n",
              "      <td>1</td>\n",
              "      <td>Friendly</td>\n",
              "      <td>Phnom Penh</td>\n",
              "      <td>Cambodia</td>\n",
              "      <td>False</td>\n",
              "    </tr>\n",
              "    <tr>\n",
              "      <th>3940</th>\n",
              "      <td>1956-03-17</td>\n",
              "      <td>Malaysia</td>\n",
              "      <td>Cambodia</td>\n",
              "      <td>9</td>\n",
              "      <td>2</td>\n",
              "      <td>AFC Asian Cup qualification</td>\n",
              "      <td>Kuala Lumpur</td>\n",
              "      <td>Malaya</td>\n",
              "      <td>True</td>\n",
              "    </tr>\n",
              "    <tr>\n",
              "      <th>3955</th>\n",
              "      <td>1956-04-24</td>\n",
              "      <td>Cambodia</td>\n",
              "      <td>Malaysia</td>\n",
              "      <td>3</td>\n",
              "      <td>2</td>\n",
              "      <td>AFC Asian Cup qualification</td>\n",
              "      <td>Phnom Penh</td>\n",
              "      <td>Cambodia</td>\n",
              "      <td>False</td>\n",
              "    </tr>\n",
              "    <tr>\n",
              "      <th>4228</th>\n",
              "      <td>1957-08-31</td>\n",
              "      <td>Cambodia</td>\n",
              "      <td>Hong Kong</td>\n",
              "      <td>2</td>\n",
              "      <td>6</td>\n",
              "      <td>Merdeka Tournament</td>\n",
              "      <td>Kuala Lumpur</td>\n",
              "      <td>Malaya</td>\n",
              "      <td>True</td>\n",
              "    </tr>\n",
              "    <tr>\n",
              "      <th>4231</th>\n",
              "      <td>1957-09-01</td>\n",
              "      <td>Cambodia</td>\n",
              "      <td>Thailand</td>\n",
              "      <td>0</td>\n",
              "      <td>3</td>\n",
              "      <td>Merdeka Tournament</td>\n",
              "      <td>Kuala Lumpur</td>\n",
              "      <td>Malaya</td>\n",
              "      <td>True</td>\n",
              "    </tr>\n",
              "    <tr>\n",
              "      <th>...</th>\n",
              "      <td>...</td>\n",
              "      <td>...</td>\n",
              "      <td>...</td>\n",
              "      <td>...</td>\n",
              "      <td>...</td>\n",
              "      <td>...</td>\n",
              "      <td>...</td>\n",
              "      <td>...</td>\n",
              "      <td>...</td>\n",
              "    </tr>\n",
              "    <tr>\n",
              "      <th>41469</th>\n",
              "      <td>2019-11-14</td>\n",
              "      <td>Cambodia</td>\n",
              "      <td>Mongolia</td>\n",
              "      <td>1</td>\n",
              "      <td>1</td>\n",
              "      <td>Friendly</td>\n",
              "      <td>Phnom Penh</td>\n",
              "      <td>Cambodia</td>\n",
              "      <td>False</td>\n",
              "    </tr>\n",
              "    <tr>\n",
              "      <th>41605</th>\n",
              "      <td>2019-11-19</td>\n",
              "      <td>Hong Kong</td>\n",
              "      <td>Cambodia</td>\n",
              "      <td>2</td>\n",
              "      <td>0</td>\n",
              "      <td>FIFA World Cup qualification</td>\n",
              "      <td>Hong Kong</td>\n",
              "      <td>Hong Kong</td>\n",
              "      <td>False</td>\n",
              "    </tr>\n",
              "    <tr>\n",
              "      <th>42170</th>\n",
              "      <td>2021-06-03</td>\n",
              "      <td>Bahrain</td>\n",
              "      <td>Cambodia</td>\n",
              "      <td>8</td>\n",
              "      <td>0</td>\n",
              "      <td>FIFA World Cup qualification</td>\n",
              "      <td>Riffa</td>\n",
              "      <td>Bahrain</td>\n",
              "      <td>False</td>\n",
              "    </tr>\n",
              "    <tr>\n",
              "      <th>42238</th>\n",
              "      <td>2021-06-07</td>\n",
              "      <td>Iraq</td>\n",
              "      <td>Cambodia</td>\n",
              "      <td>4</td>\n",
              "      <td>1</td>\n",
              "      <td>FIFA World Cup qualification</td>\n",
              "      <td>Arad</td>\n",
              "      <td>Iran</td>\n",
              "      <td>True</td>\n",
              "    </tr>\n",
              "    <tr>\n",
              "      <th>42286</th>\n",
              "      <td>2021-06-11</td>\n",
              "      <td>Cambodia</td>\n",
              "      <td>Iran</td>\n",
              "      <td>0</td>\n",
              "      <td>10</td>\n",
              "      <td>FIFA World Cup qualification</td>\n",
              "      <td>Isa Town</td>\n",
              "      <td>Bahrain</td>\n",
              "      <td>True</td>\n",
              "    </tr>\n",
              "  </tbody>\n",
              "</table>\n",
              "<p>228 rows × 9 columns</p>\n",
              "</div>"
            ],
            "text/plain": [
              "             date  home_team  away_team  ...          city    country neutral\n",
              "3731   1954-11-01   Cambodia   Thailand  ...    Phnom Penh   Cambodia   False\n",
              "3940   1956-03-17   Malaysia   Cambodia  ...  Kuala Lumpur     Malaya    True\n",
              "3955   1956-04-24   Cambodia   Malaysia  ...    Phnom Penh   Cambodia   False\n",
              "4228   1957-08-31   Cambodia  Hong Kong  ...  Kuala Lumpur     Malaya    True\n",
              "4231   1957-09-01   Cambodia   Thailand  ...  Kuala Lumpur     Malaya    True\n",
              "...           ...        ...        ...  ...           ...        ...     ...\n",
              "41469  2019-11-14   Cambodia   Mongolia  ...    Phnom Penh   Cambodia   False\n",
              "41605  2019-11-19  Hong Kong   Cambodia  ...     Hong Kong  Hong Kong   False\n",
              "42170  2021-06-03    Bahrain   Cambodia  ...         Riffa    Bahrain   False\n",
              "42238  2021-06-07       Iraq   Cambodia  ...          Arad       Iran    True\n",
              "42286  2021-06-11   Cambodia       Iran  ...      Isa Town    Bahrain    True\n",
              "\n",
              "[228 rows x 9 columns]"
            ]
          },
          "metadata": {
            "tags": []
          },
          "execution_count": 45
        }
      ]
    },
    {
      "cell_type": "code",
      "metadata": {
        "colab": {
          "base_uri": "https://localhost:8080/",
          "height": 204
        },
        "id": "KZnn5cyy4rhe",
        "outputId": "f30e0f5f-f18a-466c-8087-9e52d6036601"
      },
      "source": [
        "## prepare a new dataset which is remove cambodia because we want to predict cambodia result so cambodia not a feature anymore\n",
        "\n",
        "# when cambodia is home team\n",
        "df_home=df_re[df_re['home_team']==\"Cambodia\"]\n",
        "me=df_home[\"home_score\"].values-df_home[\"away_score\"].values\n",
        "df_home=df_home[[\"away_team\",\"tournament\",\"country\",\"neutral\"]]\n",
        "df_home.rename(columns={\"away_team\":\"team\"},inplace=True)\n",
        "df_home[\"score\"]=me\n",
        "\n",
        "#when cambodia is away team\n",
        "df_away=df_re[df_re['away_team']==\"Cambodia\"]\n",
        "me=df_away[\"away_score\"].values-df_away[\"home_score\"].values\n",
        "df_away=df_away[[\"home_team\",\"tournament\",\"country\",\"neutral\"]]\n",
        "df_away[\"score\"]=me\n",
        "\n",
        "df_away.rename(columns={\"home_team\":\"team\"},inplace=True)\n",
        "df_away.head()"
      ],
      "execution_count": 46,
      "outputs": [
        {
          "output_type": "execute_result",
          "data": {
            "text/html": [
              "<div>\n",
              "<style scoped>\n",
              "    .dataframe tbody tr th:only-of-type {\n",
              "        vertical-align: middle;\n",
              "    }\n",
              "\n",
              "    .dataframe tbody tr th {\n",
              "        vertical-align: top;\n",
              "    }\n",
              "\n",
              "    .dataframe thead th {\n",
              "        text-align: right;\n",
              "    }\n",
              "</style>\n",
              "<table border=\"1\" class=\"dataframe\">\n",
              "  <thead>\n",
              "    <tr style=\"text-align: right;\">\n",
              "      <th></th>\n",
              "      <th>team</th>\n",
              "      <th>tournament</th>\n",
              "      <th>country</th>\n",
              "      <th>neutral</th>\n",
              "      <th>score</th>\n",
              "    </tr>\n",
              "  </thead>\n",
              "  <tbody>\n",
              "    <tr>\n",
              "      <th>3940</th>\n",
              "      <td>Malaysia</td>\n",
              "      <td>AFC Asian Cup qualification</td>\n",
              "      <td>Malaya</td>\n",
              "      <td>True</td>\n",
              "      <td>-7</td>\n",
              "    </tr>\n",
              "    <tr>\n",
              "      <th>4237</th>\n",
              "      <td>Burma</td>\n",
              "      <td>Merdeka Tournament</td>\n",
              "      <td>Malaya</td>\n",
              "      <td>True</td>\n",
              "      <td>-2</td>\n",
              "    </tr>\n",
              "    <tr>\n",
              "      <th>5941</th>\n",
              "      <td>North Korea</td>\n",
              "      <td>Friendly</td>\n",
              "      <td>North Korea</td>\n",
              "      <td>False</td>\n",
              "      <td>-4</td>\n",
              "    </tr>\n",
              "    <tr>\n",
              "      <th>6678</th>\n",
              "      <td>Burma</td>\n",
              "      <td>AFC Asian Cup qualification</td>\n",
              "      <td>Burma</td>\n",
              "      <td>False</td>\n",
              "      <td>-1</td>\n",
              "    </tr>\n",
              "    <tr>\n",
              "      <th>7645</th>\n",
              "      <td>Indonesia</td>\n",
              "      <td>King's Cup</td>\n",
              "      <td>Thailand</td>\n",
              "      <td>True</td>\n",
              "      <td>-3</td>\n",
              "    </tr>\n",
              "  </tbody>\n",
              "</table>\n",
              "</div>"
            ],
            "text/plain": [
              "             team                   tournament      country  neutral  score\n",
              "3940     Malaysia  AFC Asian Cup qualification       Malaya     True     -7\n",
              "4237        Burma           Merdeka Tournament       Malaya     True     -2\n",
              "5941  North Korea                     Friendly  North Korea    False     -4\n",
              "6678        Burma  AFC Asian Cup qualification        Burma    False     -1\n",
              "7645    Indonesia                   King's Cup     Thailand     True     -3"
            ]
          },
          "metadata": {
            "tags": []
          },
          "execution_count": 46
        }
      ]
    },
    {
      "cell_type": "code",
      "metadata": {
        "id": "Du4Hz6RV5h_-"
      },
      "source": [
        "df_cam=df_home.append(df_away)"
      ],
      "execution_count": 47,
      "outputs": []
    },
    {
      "cell_type": "code",
      "metadata": {
        "id": "fLkQAQxVANYN"
      },
      "source": [
        ""
      ],
      "execution_count": 47,
      "outputs": []
    },
    {
      "cell_type": "markdown",
      "metadata": {
        "id": "f9lVIwZsA9Ra"
      },
      "source": [
        "## Data Prepeocessing"
      ]
    },
    {
      "cell_type": "code",
      "metadata": {
        "colab": {
          "base_uri": "https://localhost:8080/",
          "height": 204
        },
        "id": "SrJgLRZ7A5Gb",
        "outputId": "0fb7385f-3242-4829-a77e-2afe4ea9e40a"
      },
      "source": [
        "df_cam.head()"
      ],
      "execution_count": 48,
      "outputs": [
        {
          "output_type": "execute_result",
          "data": {
            "text/html": [
              "<div>\n",
              "<style scoped>\n",
              "    .dataframe tbody tr th:only-of-type {\n",
              "        vertical-align: middle;\n",
              "    }\n",
              "\n",
              "    .dataframe tbody tr th {\n",
              "        vertical-align: top;\n",
              "    }\n",
              "\n",
              "    .dataframe thead th {\n",
              "        text-align: right;\n",
              "    }\n",
              "</style>\n",
              "<table border=\"1\" class=\"dataframe\">\n",
              "  <thead>\n",
              "    <tr style=\"text-align: right;\">\n",
              "      <th></th>\n",
              "      <th>team</th>\n",
              "      <th>tournament</th>\n",
              "      <th>country</th>\n",
              "      <th>neutral</th>\n",
              "      <th>score</th>\n",
              "    </tr>\n",
              "  </thead>\n",
              "  <tbody>\n",
              "    <tr>\n",
              "      <th>3731</th>\n",
              "      <td>Thailand</td>\n",
              "      <td>Friendly</td>\n",
              "      <td>Cambodia</td>\n",
              "      <td>False</td>\n",
              "      <td>6</td>\n",
              "    </tr>\n",
              "    <tr>\n",
              "      <th>3955</th>\n",
              "      <td>Malaysia</td>\n",
              "      <td>AFC Asian Cup qualification</td>\n",
              "      <td>Cambodia</td>\n",
              "      <td>False</td>\n",
              "      <td>1</td>\n",
              "    </tr>\n",
              "    <tr>\n",
              "      <th>4228</th>\n",
              "      <td>Hong Kong</td>\n",
              "      <td>Merdeka Tournament</td>\n",
              "      <td>Malaya</td>\n",
              "      <td>True</td>\n",
              "      <td>-4</td>\n",
              "    </tr>\n",
              "    <tr>\n",
              "      <th>4231</th>\n",
              "      <td>Thailand</td>\n",
              "      <td>Merdeka Tournament</td>\n",
              "      <td>Malaya</td>\n",
              "      <td>True</td>\n",
              "      <td>-3</td>\n",
              "    </tr>\n",
              "    <tr>\n",
              "      <th>4245</th>\n",
              "      <td>Singapore</td>\n",
              "      <td>Merdeka Tournament</td>\n",
              "      <td>Malaya</td>\n",
              "      <td>True</td>\n",
              "      <td>0</td>\n",
              "    </tr>\n",
              "  </tbody>\n",
              "</table>\n",
              "</div>"
            ],
            "text/plain": [
              "           team                   tournament   country  neutral  score\n",
              "3731   Thailand                     Friendly  Cambodia    False      6\n",
              "3955   Malaysia  AFC Asian Cup qualification  Cambodia    False      1\n",
              "4228  Hong Kong           Merdeka Tournament    Malaya     True     -4\n",
              "4231   Thailand           Merdeka Tournament    Malaya     True     -3\n",
              "4245  Singapore           Merdeka Tournament    Malaya     True      0"
            ]
          },
          "metadata": {
            "tags": []
          },
          "execution_count": 48
        }
      ]
    },
    {
      "cell_type": "code",
      "metadata": {
        "id": "U72jTORQBCjL"
      },
      "source": [
        "# for tournament i devide it into 2 types friendly and challenge\n",
        "df_cam.loc[df_cam[\"tournament\"]!=\"Friendly\",\"tournament\"]=\"others\"\n",
        "df_cam.loc[df_cam[\"score\"]>0,\"result\"]=\"win\"\n",
        "df_cam.loc[df_cam[\"score\"]<0,\"result\"]=\"lose\"\n",
        "df_cam.loc[df_cam[\"score\"]==0,\"result\"]=\"draw\""
      ],
      "execution_count": 49,
      "outputs": []
    },
    {
      "cell_type": "code",
      "metadata": {
        "id": "MHjCPrqfBnFH"
      },
      "source": [
        "df_cam.loc[df_cam[\"country\"]==\"Cambodia\",\"home\"]=\"True\"\n",
        "df_cam.loc[df_cam[\"country\"]!=\"Cambodia\",\"home\"]=\"False\"\n"
      ],
      "execution_count": 50,
      "outputs": []
    },
    {
      "cell_type": "code",
      "metadata": {
        "id": "65JQvpGGB1oz"
      },
      "source": [
        "df_cam.drop([\"country\"],axis=1,inplace=True)"
      ],
      "execution_count": 51,
      "outputs": []
    },
    {
      "cell_type": "code",
      "metadata": {
        "colab": {
          "base_uri": "https://localhost:8080/"
        },
        "id": "lxUAY0y4EiWq",
        "outputId": "a484441b-3aba-41b6-b581-372a33202801"
      },
      "source": [
        "from collections import Counter\n",
        "list(Counter(df_cam[\"result\"]).keys())"
      ],
      "execution_count": 52,
      "outputs": [
        {
          "output_type": "execute_result",
          "data": {
            "text/plain": [
              "['win', 'lose', 'draw']"
            ]
          },
          "metadata": {
            "tags": []
          },
          "execution_count": 52
        }
      ]
    },
    {
      "cell_type": "code",
      "metadata": {
        "id": "ACK9mG3RFdJx",
        "colab": {
          "base_uri": "https://localhost:8080/"
        },
        "outputId": "ef3e0ac9-74fa-4088-fd0e-4119f8985809"
      },
      "source": [
        "percent_win_friend=df_cam[df_cam[\"tournament\"]==\"Friendly\"][\"result\"].value_counts()[\"win\"]/df.shape[0]\n",
        "percent_win_challenge=df_cam[df_cam[\"tournament\"]==\"others\"][\"result\"].value_counts()[\"win\"]/df.shape[0]\n",
        "print(\"percentage win in friendly match:\"+str(percent_win_friend))\n",
        "print(\"percentage win in formal match:\"+str(percent_win_challenge))"
      ],
      "execution_count": 53,
      "outputs": [
        {
          "output_type": "stream",
          "text": [
            "percentage win in friendly match:0.018648018648018648\n",
            "percentage win in formal match:0.09324009324009325\n"
          ],
          "name": "stdout"
        }
      ]
    },
    {
      "cell_type": "code",
      "metadata": {
        "id": "FVHV1dU6ldTD",
        "colab": {
          "base_uri": "https://localhost:8080/",
          "height": 241
        },
        "outputId": "6ed40a80-5335-4013-89fa-f0f376c8e4aa"
      },
      "source": [
        "# Data preprocessing\n",
        "from sklearn.preprocessing import LabelEncoder\n",
        "\n",
        "# lb_make = LabelEncoder()\n",
        "# df_cam[\"team\"] = lb_make.fit_transform(df_cam[\"team\"])\n",
        "# df_cam.head()\n",
        "\n",
        "df_team=pd.get_dummies(df_cam[\"team\"])\n",
        "df_cam1 = pd.concat([df_cam,df_team],axis='columns')\n",
        "# in dummies variable you need to drop the old variable and one label\n",
        "df_cam1.drop([\"team\",\"Afghanistan\"],axis=1,inplace=True)\n",
        "df_cam1.head()\n",
        "\n",
        "df_tour=pd.get_dummies(df_cam[\"tournament\"])\n",
        "df_cam2 = pd.concat([df_cam1,df_tour],axis='columns')\n",
        "# in dummies variable you need to drop the old variable and one label\n",
        "df_cam2.drop([\"tournament\",\"others\"],axis=1,inplace=True)\n",
        "df_cam2.head()\n",
        "\n",
        "\n"
      ],
      "execution_count": 57,
      "outputs": [
        {
          "output_type": "execute_result",
          "data": {
            "text/html": [
              "<div>\n",
              "<style scoped>\n",
              "    .dataframe tbody tr th:only-of-type {\n",
              "        vertical-align: middle;\n",
              "    }\n",
              "\n",
              "    .dataframe tbody tr th {\n",
              "        vertical-align: top;\n",
              "    }\n",
              "\n",
              "    .dataframe thead th {\n",
              "        text-align: right;\n",
              "    }\n",
              "</style>\n",
              "<table border=\"1\" class=\"dataframe\">\n",
              "  <thead>\n",
              "    <tr style=\"text-align: right;\">\n",
              "      <th></th>\n",
              "      <th>neutral</th>\n",
              "      <th>score</th>\n",
              "      <th>result</th>\n",
              "      <th>home</th>\n",
              "      <th>Australia</th>\n",
              "      <th>Bahrain</th>\n",
              "      <th>Bangladesh</th>\n",
              "      <th>Bhutan</th>\n",
              "      <th>Brunei</th>\n",
              "      <th>Burma</th>\n",
              "      <th>China PR</th>\n",
              "      <th>East Timor</th>\n",
              "      <th>Guam</th>\n",
              "      <th>Hong Kong</th>\n",
              "      <th>India</th>\n",
              "      <th>Indonesia</th>\n",
              "      <th>Iran</th>\n",
              "      <th>Iraq</th>\n",
              "      <th>Japan</th>\n",
              "      <th>Jordan</th>\n",
              "      <th>Kuwait</th>\n",
              "      <th>Kyrgyzstan</th>\n",
              "      <th>Laos</th>\n",
              "      <th>Macau</th>\n",
              "      <th>Malaysia</th>\n",
              "      <th>Maldives</th>\n",
              "      <th>Mongolia</th>\n",
              "      <th>Myanmar</th>\n",
              "      <th>Nepal</th>\n",
              "      <th>North Korea</th>\n",
              "      <th>North Vietnam</th>\n",
              "      <th>Pakistan</th>\n",
              "      <th>Palestine</th>\n",
              "      <th>Philippines</th>\n",
              "      <th>Saudi Arabia</th>\n",
              "      <th>Singapore</th>\n",
              "      <th>South Korea</th>\n",
              "      <th>Sri Lanka</th>\n",
              "      <th>Syria</th>\n",
              "      <th>Taiwan</th>\n",
              "      <th>Tajikistan</th>\n",
              "      <th>Thailand</th>\n",
              "      <th>Timor-Leste</th>\n",
              "      <th>Turkmenistan</th>\n",
              "      <th>Uzbekistan</th>\n",
              "      <th>Vietnam</th>\n",
              "      <th>Vietnam Republic</th>\n",
              "      <th>Western Australia</th>\n",
              "      <th>Yemen</th>\n",
              "      <th>Friendly</th>\n",
              "    </tr>\n",
              "  </thead>\n",
              "  <tbody>\n",
              "    <tr>\n",
              "      <th>3731</th>\n",
              "      <td>False</td>\n",
              "      <td>6</td>\n",
              "      <td>win</td>\n",
              "      <td>True</td>\n",
              "      <td>0</td>\n",
              "      <td>0</td>\n",
              "      <td>0</td>\n",
              "      <td>0</td>\n",
              "      <td>0</td>\n",
              "      <td>0</td>\n",
              "      <td>0</td>\n",
              "      <td>0</td>\n",
              "      <td>0</td>\n",
              "      <td>0</td>\n",
              "      <td>0</td>\n",
              "      <td>0</td>\n",
              "      <td>0</td>\n",
              "      <td>0</td>\n",
              "      <td>0</td>\n",
              "      <td>0</td>\n",
              "      <td>0</td>\n",
              "      <td>0</td>\n",
              "      <td>0</td>\n",
              "      <td>0</td>\n",
              "      <td>0</td>\n",
              "      <td>0</td>\n",
              "      <td>0</td>\n",
              "      <td>0</td>\n",
              "      <td>0</td>\n",
              "      <td>0</td>\n",
              "      <td>0</td>\n",
              "      <td>0</td>\n",
              "      <td>0</td>\n",
              "      <td>0</td>\n",
              "      <td>0</td>\n",
              "      <td>0</td>\n",
              "      <td>0</td>\n",
              "      <td>0</td>\n",
              "      <td>0</td>\n",
              "      <td>0</td>\n",
              "      <td>0</td>\n",
              "      <td>1</td>\n",
              "      <td>0</td>\n",
              "      <td>0</td>\n",
              "      <td>0</td>\n",
              "      <td>0</td>\n",
              "      <td>0</td>\n",
              "      <td>0</td>\n",
              "      <td>0</td>\n",
              "      <td>1</td>\n",
              "    </tr>\n",
              "    <tr>\n",
              "      <th>3955</th>\n",
              "      <td>False</td>\n",
              "      <td>1</td>\n",
              "      <td>win</td>\n",
              "      <td>True</td>\n",
              "      <td>0</td>\n",
              "      <td>0</td>\n",
              "      <td>0</td>\n",
              "      <td>0</td>\n",
              "      <td>0</td>\n",
              "      <td>0</td>\n",
              "      <td>0</td>\n",
              "      <td>0</td>\n",
              "      <td>0</td>\n",
              "      <td>0</td>\n",
              "      <td>0</td>\n",
              "      <td>0</td>\n",
              "      <td>0</td>\n",
              "      <td>0</td>\n",
              "      <td>0</td>\n",
              "      <td>0</td>\n",
              "      <td>0</td>\n",
              "      <td>0</td>\n",
              "      <td>0</td>\n",
              "      <td>0</td>\n",
              "      <td>1</td>\n",
              "      <td>0</td>\n",
              "      <td>0</td>\n",
              "      <td>0</td>\n",
              "      <td>0</td>\n",
              "      <td>0</td>\n",
              "      <td>0</td>\n",
              "      <td>0</td>\n",
              "      <td>0</td>\n",
              "      <td>0</td>\n",
              "      <td>0</td>\n",
              "      <td>0</td>\n",
              "      <td>0</td>\n",
              "      <td>0</td>\n",
              "      <td>0</td>\n",
              "      <td>0</td>\n",
              "      <td>0</td>\n",
              "      <td>0</td>\n",
              "      <td>0</td>\n",
              "      <td>0</td>\n",
              "      <td>0</td>\n",
              "      <td>0</td>\n",
              "      <td>0</td>\n",
              "      <td>0</td>\n",
              "      <td>0</td>\n",
              "      <td>0</td>\n",
              "    </tr>\n",
              "    <tr>\n",
              "      <th>4228</th>\n",
              "      <td>True</td>\n",
              "      <td>-4</td>\n",
              "      <td>lose</td>\n",
              "      <td>False</td>\n",
              "      <td>0</td>\n",
              "      <td>0</td>\n",
              "      <td>0</td>\n",
              "      <td>0</td>\n",
              "      <td>0</td>\n",
              "      <td>0</td>\n",
              "      <td>0</td>\n",
              "      <td>0</td>\n",
              "      <td>0</td>\n",
              "      <td>1</td>\n",
              "      <td>0</td>\n",
              "      <td>0</td>\n",
              "      <td>0</td>\n",
              "      <td>0</td>\n",
              "      <td>0</td>\n",
              "      <td>0</td>\n",
              "      <td>0</td>\n",
              "      <td>0</td>\n",
              "      <td>0</td>\n",
              "      <td>0</td>\n",
              "      <td>0</td>\n",
              "      <td>0</td>\n",
              "      <td>0</td>\n",
              "      <td>0</td>\n",
              "      <td>0</td>\n",
              "      <td>0</td>\n",
              "      <td>0</td>\n",
              "      <td>0</td>\n",
              "      <td>0</td>\n",
              "      <td>0</td>\n",
              "      <td>0</td>\n",
              "      <td>0</td>\n",
              "      <td>0</td>\n",
              "      <td>0</td>\n",
              "      <td>0</td>\n",
              "      <td>0</td>\n",
              "      <td>0</td>\n",
              "      <td>0</td>\n",
              "      <td>0</td>\n",
              "      <td>0</td>\n",
              "      <td>0</td>\n",
              "      <td>0</td>\n",
              "      <td>0</td>\n",
              "      <td>0</td>\n",
              "      <td>0</td>\n",
              "      <td>0</td>\n",
              "    </tr>\n",
              "    <tr>\n",
              "      <th>4231</th>\n",
              "      <td>True</td>\n",
              "      <td>-3</td>\n",
              "      <td>lose</td>\n",
              "      <td>False</td>\n",
              "      <td>0</td>\n",
              "      <td>0</td>\n",
              "      <td>0</td>\n",
              "      <td>0</td>\n",
              "      <td>0</td>\n",
              "      <td>0</td>\n",
              "      <td>0</td>\n",
              "      <td>0</td>\n",
              "      <td>0</td>\n",
              "      <td>0</td>\n",
              "      <td>0</td>\n",
              "      <td>0</td>\n",
              "      <td>0</td>\n",
              "      <td>0</td>\n",
              "      <td>0</td>\n",
              "      <td>0</td>\n",
              "      <td>0</td>\n",
              "      <td>0</td>\n",
              "      <td>0</td>\n",
              "      <td>0</td>\n",
              "      <td>0</td>\n",
              "      <td>0</td>\n",
              "      <td>0</td>\n",
              "      <td>0</td>\n",
              "      <td>0</td>\n",
              "      <td>0</td>\n",
              "      <td>0</td>\n",
              "      <td>0</td>\n",
              "      <td>0</td>\n",
              "      <td>0</td>\n",
              "      <td>0</td>\n",
              "      <td>0</td>\n",
              "      <td>0</td>\n",
              "      <td>0</td>\n",
              "      <td>0</td>\n",
              "      <td>0</td>\n",
              "      <td>0</td>\n",
              "      <td>1</td>\n",
              "      <td>0</td>\n",
              "      <td>0</td>\n",
              "      <td>0</td>\n",
              "      <td>0</td>\n",
              "      <td>0</td>\n",
              "      <td>0</td>\n",
              "      <td>0</td>\n",
              "      <td>0</td>\n",
              "    </tr>\n",
              "    <tr>\n",
              "      <th>4245</th>\n",
              "      <td>True</td>\n",
              "      <td>0</td>\n",
              "      <td>draw</td>\n",
              "      <td>False</td>\n",
              "      <td>0</td>\n",
              "      <td>0</td>\n",
              "      <td>0</td>\n",
              "      <td>0</td>\n",
              "      <td>0</td>\n",
              "      <td>0</td>\n",
              "      <td>0</td>\n",
              "      <td>0</td>\n",
              "      <td>0</td>\n",
              "      <td>0</td>\n",
              "      <td>0</td>\n",
              "      <td>0</td>\n",
              "      <td>0</td>\n",
              "      <td>0</td>\n",
              "      <td>0</td>\n",
              "      <td>0</td>\n",
              "      <td>0</td>\n",
              "      <td>0</td>\n",
              "      <td>0</td>\n",
              "      <td>0</td>\n",
              "      <td>0</td>\n",
              "      <td>0</td>\n",
              "      <td>0</td>\n",
              "      <td>0</td>\n",
              "      <td>0</td>\n",
              "      <td>0</td>\n",
              "      <td>0</td>\n",
              "      <td>0</td>\n",
              "      <td>0</td>\n",
              "      <td>0</td>\n",
              "      <td>0</td>\n",
              "      <td>1</td>\n",
              "      <td>0</td>\n",
              "      <td>0</td>\n",
              "      <td>0</td>\n",
              "      <td>0</td>\n",
              "      <td>0</td>\n",
              "      <td>0</td>\n",
              "      <td>0</td>\n",
              "      <td>0</td>\n",
              "      <td>0</td>\n",
              "      <td>0</td>\n",
              "      <td>0</td>\n",
              "      <td>0</td>\n",
              "      <td>0</td>\n",
              "      <td>0</td>\n",
              "    </tr>\n",
              "  </tbody>\n",
              "</table>\n",
              "</div>"
            ],
            "text/plain": [
              "      neutral  score result  ... Western Australia  Yemen  Friendly\n",
              "3731    False      6    win  ...                 0      0         1\n",
              "3955    False      1    win  ...                 0      0         0\n",
              "4228     True     -4   lose  ...                 0      0         0\n",
              "4231     True     -3   lose  ...                 0      0         0\n",
              "4245     True      0   draw  ...                 0      0         0\n",
              "\n",
              "[5 rows x 50 columns]"
            ]
          },
          "metadata": {
            "tags": []
          },
          "execution_count": 57
        }
      ]
    },
    {
      "cell_type": "code",
      "metadata": {
        "id": "ABNk-TummRlz"
      },
      "source": [
        "\n"
      ],
      "execution_count": 57,
      "outputs": []
    },
    {
      "cell_type": "code",
      "metadata": {
        "id": "mKB3kzv0nU3n",
        "colab": {
          "base_uri": "https://localhost:8080/",
          "height": 241
        },
        "outputId": "bc26a529-bfd4-4251-c332-cf235f2f9414"
      },
      "source": [
        "df_cam2[\"neutral\"].replace({False:0,True:1},inplace=True)\n",
        "df_cam2[\"home\"].replace({\"False\":0,\"True\":1},inplace=True)\n",
        "df_cam2.head()"
      ],
      "execution_count": 58,
      "outputs": [
        {
          "output_type": "execute_result",
          "data": {
            "text/html": [
              "<div>\n",
              "<style scoped>\n",
              "    .dataframe tbody tr th:only-of-type {\n",
              "        vertical-align: middle;\n",
              "    }\n",
              "\n",
              "    .dataframe tbody tr th {\n",
              "        vertical-align: top;\n",
              "    }\n",
              "\n",
              "    .dataframe thead th {\n",
              "        text-align: right;\n",
              "    }\n",
              "</style>\n",
              "<table border=\"1\" class=\"dataframe\">\n",
              "  <thead>\n",
              "    <tr style=\"text-align: right;\">\n",
              "      <th></th>\n",
              "      <th>neutral</th>\n",
              "      <th>score</th>\n",
              "      <th>result</th>\n",
              "      <th>home</th>\n",
              "      <th>Australia</th>\n",
              "      <th>Bahrain</th>\n",
              "      <th>Bangladesh</th>\n",
              "      <th>Bhutan</th>\n",
              "      <th>Brunei</th>\n",
              "      <th>Burma</th>\n",
              "      <th>China PR</th>\n",
              "      <th>East Timor</th>\n",
              "      <th>Guam</th>\n",
              "      <th>Hong Kong</th>\n",
              "      <th>India</th>\n",
              "      <th>Indonesia</th>\n",
              "      <th>Iran</th>\n",
              "      <th>Iraq</th>\n",
              "      <th>Japan</th>\n",
              "      <th>Jordan</th>\n",
              "      <th>Kuwait</th>\n",
              "      <th>Kyrgyzstan</th>\n",
              "      <th>Laos</th>\n",
              "      <th>Macau</th>\n",
              "      <th>Malaysia</th>\n",
              "      <th>Maldives</th>\n",
              "      <th>Mongolia</th>\n",
              "      <th>Myanmar</th>\n",
              "      <th>Nepal</th>\n",
              "      <th>North Korea</th>\n",
              "      <th>North Vietnam</th>\n",
              "      <th>Pakistan</th>\n",
              "      <th>Palestine</th>\n",
              "      <th>Philippines</th>\n",
              "      <th>Saudi Arabia</th>\n",
              "      <th>Singapore</th>\n",
              "      <th>South Korea</th>\n",
              "      <th>Sri Lanka</th>\n",
              "      <th>Syria</th>\n",
              "      <th>Taiwan</th>\n",
              "      <th>Tajikistan</th>\n",
              "      <th>Thailand</th>\n",
              "      <th>Timor-Leste</th>\n",
              "      <th>Turkmenistan</th>\n",
              "      <th>Uzbekistan</th>\n",
              "      <th>Vietnam</th>\n",
              "      <th>Vietnam Republic</th>\n",
              "      <th>Western Australia</th>\n",
              "      <th>Yemen</th>\n",
              "      <th>Friendly</th>\n",
              "    </tr>\n",
              "  </thead>\n",
              "  <tbody>\n",
              "    <tr>\n",
              "      <th>3731</th>\n",
              "      <td>0</td>\n",
              "      <td>6</td>\n",
              "      <td>win</td>\n",
              "      <td>1</td>\n",
              "      <td>0</td>\n",
              "      <td>0</td>\n",
              "      <td>0</td>\n",
              "      <td>0</td>\n",
              "      <td>0</td>\n",
              "      <td>0</td>\n",
              "      <td>0</td>\n",
              "      <td>0</td>\n",
              "      <td>0</td>\n",
              "      <td>0</td>\n",
              "      <td>0</td>\n",
              "      <td>0</td>\n",
              "      <td>0</td>\n",
              "      <td>0</td>\n",
              "      <td>0</td>\n",
              "      <td>0</td>\n",
              "      <td>0</td>\n",
              "      <td>0</td>\n",
              "      <td>0</td>\n",
              "      <td>0</td>\n",
              "      <td>0</td>\n",
              "      <td>0</td>\n",
              "      <td>0</td>\n",
              "      <td>0</td>\n",
              "      <td>0</td>\n",
              "      <td>0</td>\n",
              "      <td>0</td>\n",
              "      <td>0</td>\n",
              "      <td>0</td>\n",
              "      <td>0</td>\n",
              "      <td>0</td>\n",
              "      <td>0</td>\n",
              "      <td>0</td>\n",
              "      <td>0</td>\n",
              "      <td>0</td>\n",
              "      <td>0</td>\n",
              "      <td>0</td>\n",
              "      <td>1</td>\n",
              "      <td>0</td>\n",
              "      <td>0</td>\n",
              "      <td>0</td>\n",
              "      <td>0</td>\n",
              "      <td>0</td>\n",
              "      <td>0</td>\n",
              "      <td>0</td>\n",
              "      <td>1</td>\n",
              "    </tr>\n",
              "    <tr>\n",
              "      <th>3955</th>\n",
              "      <td>0</td>\n",
              "      <td>1</td>\n",
              "      <td>win</td>\n",
              "      <td>1</td>\n",
              "      <td>0</td>\n",
              "      <td>0</td>\n",
              "      <td>0</td>\n",
              "      <td>0</td>\n",
              "      <td>0</td>\n",
              "      <td>0</td>\n",
              "      <td>0</td>\n",
              "      <td>0</td>\n",
              "      <td>0</td>\n",
              "      <td>0</td>\n",
              "      <td>0</td>\n",
              "      <td>0</td>\n",
              "      <td>0</td>\n",
              "      <td>0</td>\n",
              "      <td>0</td>\n",
              "      <td>0</td>\n",
              "      <td>0</td>\n",
              "      <td>0</td>\n",
              "      <td>0</td>\n",
              "      <td>0</td>\n",
              "      <td>1</td>\n",
              "      <td>0</td>\n",
              "      <td>0</td>\n",
              "      <td>0</td>\n",
              "      <td>0</td>\n",
              "      <td>0</td>\n",
              "      <td>0</td>\n",
              "      <td>0</td>\n",
              "      <td>0</td>\n",
              "      <td>0</td>\n",
              "      <td>0</td>\n",
              "      <td>0</td>\n",
              "      <td>0</td>\n",
              "      <td>0</td>\n",
              "      <td>0</td>\n",
              "      <td>0</td>\n",
              "      <td>0</td>\n",
              "      <td>0</td>\n",
              "      <td>0</td>\n",
              "      <td>0</td>\n",
              "      <td>0</td>\n",
              "      <td>0</td>\n",
              "      <td>0</td>\n",
              "      <td>0</td>\n",
              "      <td>0</td>\n",
              "      <td>0</td>\n",
              "    </tr>\n",
              "    <tr>\n",
              "      <th>4228</th>\n",
              "      <td>1</td>\n",
              "      <td>-4</td>\n",
              "      <td>lose</td>\n",
              "      <td>0</td>\n",
              "      <td>0</td>\n",
              "      <td>0</td>\n",
              "      <td>0</td>\n",
              "      <td>0</td>\n",
              "      <td>0</td>\n",
              "      <td>0</td>\n",
              "      <td>0</td>\n",
              "      <td>0</td>\n",
              "      <td>0</td>\n",
              "      <td>1</td>\n",
              "      <td>0</td>\n",
              "      <td>0</td>\n",
              "      <td>0</td>\n",
              "      <td>0</td>\n",
              "      <td>0</td>\n",
              "      <td>0</td>\n",
              "      <td>0</td>\n",
              "      <td>0</td>\n",
              "      <td>0</td>\n",
              "      <td>0</td>\n",
              "      <td>0</td>\n",
              "      <td>0</td>\n",
              "      <td>0</td>\n",
              "      <td>0</td>\n",
              "      <td>0</td>\n",
              "      <td>0</td>\n",
              "      <td>0</td>\n",
              "      <td>0</td>\n",
              "      <td>0</td>\n",
              "      <td>0</td>\n",
              "      <td>0</td>\n",
              "      <td>0</td>\n",
              "      <td>0</td>\n",
              "      <td>0</td>\n",
              "      <td>0</td>\n",
              "      <td>0</td>\n",
              "      <td>0</td>\n",
              "      <td>0</td>\n",
              "      <td>0</td>\n",
              "      <td>0</td>\n",
              "      <td>0</td>\n",
              "      <td>0</td>\n",
              "      <td>0</td>\n",
              "      <td>0</td>\n",
              "      <td>0</td>\n",
              "      <td>0</td>\n",
              "    </tr>\n",
              "    <tr>\n",
              "      <th>4231</th>\n",
              "      <td>1</td>\n",
              "      <td>-3</td>\n",
              "      <td>lose</td>\n",
              "      <td>0</td>\n",
              "      <td>0</td>\n",
              "      <td>0</td>\n",
              "      <td>0</td>\n",
              "      <td>0</td>\n",
              "      <td>0</td>\n",
              "      <td>0</td>\n",
              "      <td>0</td>\n",
              "      <td>0</td>\n",
              "      <td>0</td>\n",
              "      <td>0</td>\n",
              "      <td>0</td>\n",
              "      <td>0</td>\n",
              "      <td>0</td>\n",
              "      <td>0</td>\n",
              "      <td>0</td>\n",
              "      <td>0</td>\n",
              "      <td>0</td>\n",
              "      <td>0</td>\n",
              "      <td>0</td>\n",
              "      <td>0</td>\n",
              "      <td>0</td>\n",
              "      <td>0</td>\n",
              "      <td>0</td>\n",
              "      <td>0</td>\n",
              "      <td>0</td>\n",
              "      <td>0</td>\n",
              "      <td>0</td>\n",
              "      <td>0</td>\n",
              "      <td>0</td>\n",
              "      <td>0</td>\n",
              "      <td>0</td>\n",
              "      <td>0</td>\n",
              "      <td>0</td>\n",
              "      <td>0</td>\n",
              "      <td>0</td>\n",
              "      <td>0</td>\n",
              "      <td>0</td>\n",
              "      <td>1</td>\n",
              "      <td>0</td>\n",
              "      <td>0</td>\n",
              "      <td>0</td>\n",
              "      <td>0</td>\n",
              "      <td>0</td>\n",
              "      <td>0</td>\n",
              "      <td>0</td>\n",
              "      <td>0</td>\n",
              "    </tr>\n",
              "    <tr>\n",
              "      <th>4245</th>\n",
              "      <td>1</td>\n",
              "      <td>0</td>\n",
              "      <td>draw</td>\n",
              "      <td>0</td>\n",
              "      <td>0</td>\n",
              "      <td>0</td>\n",
              "      <td>0</td>\n",
              "      <td>0</td>\n",
              "      <td>0</td>\n",
              "      <td>0</td>\n",
              "      <td>0</td>\n",
              "      <td>0</td>\n",
              "      <td>0</td>\n",
              "      <td>0</td>\n",
              "      <td>0</td>\n",
              "      <td>0</td>\n",
              "      <td>0</td>\n",
              "      <td>0</td>\n",
              "      <td>0</td>\n",
              "      <td>0</td>\n",
              "      <td>0</td>\n",
              "      <td>0</td>\n",
              "      <td>0</td>\n",
              "      <td>0</td>\n",
              "      <td>0</td>\n",
              "      <td>0</td>\n",
              "      <td>0</td>\n",
              "      <td>0</td>\n",
              "      <td>0</td>\n",
              "      <td>0</td>\n",
              "      <td>0</td>\n",
              "      <td>0</td>\n",
              "      <td>0</td>\n",
              "      <td>0</td>\n",
              "      <td>0</td>\n",
              "      <td>1</td>\n",
              "      <td>0</td>\n",
              "      <td>0</td>\n",
              "      <td>0</td>\n",
              "      <td>0</td>\n",
              "      <td>0</td>\n",
              "      <td>0</td>\n",
              "      <td>0</td>\n",
              "      <td>0</td>\n",
              "      <td>0</td>\n",
              "      <td>0</td>\n",
              "      <td>0</td>\n",
              "      <td>0</td>\n",
              "      <td>0</td>\n",
              "      <td>0</td>\n",
              "    </tr>\n",
              "  </tbody>\n",
              "</table>\n",
              "</div>"
            ],
            "text/plain": [
              "      neutral  score result  ...  Western Australia  Yemen  Friendly\n",
              "3731        0      6    win  ...                  0      0         1\n",
              "3955        0      1    win  ...                  0      0         0\n",
              "4228        1     -4   lose  ...                  0      0         0\n",
              "4231        1     -3   lose  ...                  0      0         0\n",
              "4245        1      0   draw  ...                  0      0         0\n",
              "\n",
              "[5 rows x 50 columns]"
            ]
          },
          "metadata": {
            "tags": []
          },
          "execution_count": 58
        }
      ]
    },
    {
      "cell_type": "code",
      "metadata": {
        "colab": {
          "base_uri": "https://localhost:8080/",
          "height": 241
        },
        "id": "zgzi4Tn2VInq",
        "outputId": "233cfe27-cf1d-49a7-eec8-cefc7aef0913"
      },
      "source": [
        "X=df_cam2.drop(\"result\",axis=1)\n",
        "Y=df_cam[\"result\"]\n",
        "X.head()"
      ],
      "execution_count": 61,
      "outputs": [
        {
          "output_type": "execute_result",
          "data": {
            "text/html": [
              "<div>\n",
              "<style scoped>\n",
              "    .dataframe tbody tr th:only-of-type {\n",
              "        vertical-align: middle;\n",
              "    }\n",
              "\n",
              "    .dataframe tbody tr th {\n",
              "        vertical-align: top;\n",
              "    }\n",
              "\n",
              "    .dataframe thead th {\n",
              "        text-align: right;\n",
              "    }\n",
              "</style>\n",
              "<table border=\"1\" class=\"dataframe\">\n",
              "  <thead>\n",
              "    <tr style=\"text-align: right;\">\n",
              "      <th></th>\n",
              "      <th>neutral</th>\n",
              "      <th>score</th>\n",
              "      <th>home</th>\n",
              "      <th>Australia</th>\n",
              "      <th>Bahrain</th>\n",
              "      <th>Bangladesh</th>\n",
              "      <th>Bhutan</th>\n",
              "      <th>Brunei</th>\n",
              "      <th>Burma</th>\n",
              "      <th>China PR</th>\n",
              "      <th>East Timor</th>\n",
              "      <th>Guam</th>\n",
              "      <th>Hong Kong</th>\n",
              "      <th>India</th>\n",
              "      <th>Indonesia</th>\n",
              "      <th>Iran</th>\n",
              "      <th>Iraq</th>\n",
              "      <th>Japan</th>\n",
              "      <th>Jordan</th>\n",
              "      <th>Kuwait</th>\n",
              "      <th>Kyrgyzstan</th>\n",
              "      <th>Laos</th>\n",
              "      <th>Macau</th>\n",
              "      <th>Malaysia</th>\n",
              "      <th>Maldives</th>\n",
              "      <th>Mongolia</th>\n",
              "      <th>Myanmar</th>\n",
              "      <th>Nepal</th>\n",
              "      <th>North Korea</th>\n",
              "      <th>North Vietnam</th>\n",
              "      <th>Pakistan</th>\n",
              "      <th>Palestine</th>\n",
              "      <th>Philippines</th>\n",
              "      <th>Saudi Arabia</th>\n",
              "      <th>Singapore</th>\n",
              "      <th>South Korea</th>\n",
              "      <th>Sri Lanka</th>\n",
              "      <th>Syria</th>\n",
              "      <th>Taiwan</th>\n",
              "      <th>Tajikistan</th>\n",
              "      <th>Thailand</th>\n",
              "      <th>Timor-Leste</th>\n",
              "      <th>Turkmenistan</th>\n",
              "      <th>Uzbekistan</th>\n",
              "      <th>Vietnam</th>\n",
              "      <th>Vietnam Republic</th>\n",
              "      <th>Western Australia</th>\n",
              "      <th>Yemen</th>\n",
              "      <th>Friendly</th>\n",
              "    </tr>\n",
              "  </thead>\n",
              "  <tbody>\n",
              "    <tr>\n",
              "      <th>3731</th>\n",
              "      <td>0</td>\n",
              "      <td>6</td>\n",
              "      <td>1</td>\n",
              "      <td>0</td>\n",
              "      <td>0</td>\n",
              "      <td>0</td>\n",
              "      <td>0</td>\n",
              "      <td>0</td>\n",
              "      <td>0</td>\n",
              "      <td>0</td>\n",
              "      <td>0</td>\n",
              "      <td>0</td>\n",
              "      <td>0</td>\n",
              "      <td>0</td>\n",
              "      <td>0</td>\n",
              "      <td>0</td>\n",
              "      <td>0</td>\n",
              "      <td>0</td>\n",
              "      <td>0</td>\n",
              "      <td>0</td>\n",
              "      <td>0</td>\n",
              "      <td>0</td>\n",
              "      <td>0</td>\n",
              "      <td>0</td>\n",
              "      <td>0</td>\n",
              "      <td>0</td>\n",
              "      <td>0</td>\n",
              "      <td>0</td>\n",
              "      <td>0</td>\n",
              "      <td>0</td>\n",
              "      <td>0</td>\n",
              "      <td>0</td>\n",
              "      <td>0</td>\n",
              "      <td>0</td>\n",
              "      <td>0</td>\n",
              "      <td>0</td>\n",
              "      <td>0</td>\n",
              "      <td>0</td>\n",
              "      <td>0</td>\n",
              "      <td>0</td>\n",
              "      <td>1</td>\n",
              "      <td>0</td>\n",
              "      <td>0</td>\n",
              "      <td>0</td>\n",
              "      <td>0</td>\n",
              "      <td>0</td>\n",
              "      <td>0</td>\n",
              "      <td>0</td>\n",
              "      <td>1</td>\n",
              "    </tr>\n",
              "    <tr>\n",
              "      <th>3955</th>\n",
              "      <td>0</td>\n",
              "      <td>1</td>\n",
              "      <td>1</td>\n",
              "      <td>0</td>\n",
              "      <td>0</td>\n",
              "      <td>0</td>\n",
              "      <td>0</td>\n",
              "      <td>0</td>\n",
              "      <td>0</td>\n",
              "      <td>0</td>\n",
              "      <td>0</td>\n",
              "      <td>0</td>\n",
              "      <td>0</td>\n",
              "      <td>0</td>\n",
              "      <td>0</td>\n",
              "      <td>0</td>\n",
              "      <td>0</td>\n",
              "      <td>0</td>\n",
              "      <td>0</td>\n",
              "      <td>0</td>\n",
              "      <td>0</td>\n",
              "      <td>0</td>\n",
              "      <td>0</td>\n",
              "      <td>1</td>\n",
              "      <td>0</td>\n",
              "      <td>0</td>\n",
              "      <td>0</td>\n",
              "      <td>0</td>\n",
              "      <td>0</td>\n",
              "      <td>0</td>\n",
              "      <td>0</td>\n",
              "      <td>0</td>\n",
              "      <td>0</td>\n",
              "      <td>0</td>\n",
              "      <td>0</td>\n",
              "      <td>0</td>\n",
              "      <td>0</td>\n",
              "      <td>0</td>\n",
              "      <td>0</td>\n",
              "      <td>0</td>\n",
              "      <td>0</td>\n",
              "      <td>0</td>\n",
              "      <td>0</td>\n",
              "      <td>0</td>\n",
              "      <td>0</td>\n",
              "      <td>0</td>\n",
              "      <td>0</td>\n",
              "      <td>0</td>\n",
              "      <td>0</td>\n",
              "    </tr>\n",
              "    <tr>\n",
              "      <th>4228</th>\n",
              "      <td>1</td>\n",
              "      <td>-4</td>\n",
              "      <td>0</td>\n",
              "      <td>0</td>\n",
              "      <td>0</td>\n",
              "      <td>0</td>\n",
              "      <td>0</td>\n",
              "      <td>0</td>\n",
              "      <td>0</td>\n",
              "      <td>0</td>\n",
              "      <td>0</td>\n",
              "      <td>0</td>\n",
              "      <td>1</td>\n",
              "      <td>0</td>\n",
              "      <td>0</td>\n",
              "      <td>0</td>\n",
              "      <td>0</td>\n",
              "      <td>0</td>\n",
              "      <td>0</td>\n",
              "      <td>0</td>\n",
              "      <td>0</td>\n",
              "      <td>0</td>\n",
              "      <td>0</td>\n",
              "      <td>0</td>\n",
              "      <td>0</td>\n",
              "      <td>0</td>\n",
              "      <td>0</td>\n",
              "      <td>0</td>\n",
              "      <td>0</td>\n",
              "      <td>0</td>\n",
              "      <td>0</td>\n",
              "      <td>0</td>\n",
              "      <td>0</td>\n",
              "      <td>0</td>\n",
              "      <td>0</td>\n",
              "      <td>0</td>\n",
              "      <td>0</td>\n",
              "      <td>0</td>\n",
              "      <td>0</td>\n",
              "      <td>0</td>\n",
              "      <td>0</td>\n",
              "      <td>0</td>\n",
              "      <td>0</td>\n",
              "      <td>0</td>\n",
              "      <td>0</td>\n",
              "      <td>0</td>\n",
              "      <td>0</td>\n",
              "      <td>0</td>\n",
              "      <td>0</td>\n",
              "    </tr>\n",
              "    <tr>\n",
              "      <th>4231</th>\n",
              "      <td>1</td>\n",
              "      <td>-3</td>\n",
              "      <td>0</td>\n",
              "      <td>0</td>\n",
              "      <td>0</td>\n",
              "      <td>0</td>\n",
              "      <td>0</td>\n",
              "      <td>0</td>\n",
              "      <td>0</td>\n",
              "      <td>0</td>\n",
              "      <td>0</td>\n",
              "      <td>0</td>\n",
              "      <td>0</td>\n",
              "      <td>0</td>\n",
              "      <td>0</td>\n",
              "      <td>0</td>\n",
              "      <td>0</td>\n",
              "      <td>0</td>\n",
              "      <td>0</td>\n",
              "      <td>0</td>\n",
              "      <td>0</td>\n",
              "      <td>0</td>\n",
              "      <td>0</td>\n",
              "      <td>0</td>\n",
              "      <td>0</td>\n",
              "      <td>0</td>\n",
              "      <td>0</td>\n",
              "      <td>0</td>\n",
              "      <td>0</td>\n",
              "      <td>0</td>\n",
              "      <td>0</td>\n",
              "      <td>0</td>\n",
              "      <td>0</td>\n",
              "      <td>0</td>\n",
              "      <td>0</td>\n",
              "      <td>0</td>\n",
              "      <td>0</td>\n",
              "      <td>0</td>\n",
              "      <td>0</td>\n",
              "      <td>0</td>\n",
              "      <td>1</td>\n",
              "      <td>0</td>\n",
              "      <td>0</td>\n",
              "      <td>0</td>\n",
              "      <td>0</td>\n",
              "      <td>0</td>\n",
              "      <td>0</td>\n",
              "      <td>0</td>\n",
              "      <td>0</td>\n",
              "    </tr>\n",
              "    <tr>\n",
              "      <th>4245</th>\n",
              "      <td>1</td>\n",
              "      <td>0</td>\n",
              "      <td>0</td>\n",
              "      <td>0</td>\n",
              "      <td>0</td>\n",
              "      <td>0</td>\n",
              "      <td>0</td>\n",
              "      <td>0</td>\n",
              "      <td>0</td>\n",
              "      <td>0</td>\n",
              "      <td>0</td>\n",
              "      <td>0</td>\n",
              "      <td>0</td>\n",
              "      <td>0</td>\n",
              "      <td>0</td>\n",
              "      <td>0</td>\n",
              "      <td>0</td>\n",
              "      <td>0</td>\n",
              "      <td>0</td>\n",
              "      <td>0</td>\n",
              "      <td>0</td>\n",
              "      <td>0</td>\n",
              "      <td>0</td>\n",
              "      <td>0</td>\n",
              "      <td>0</td>\n",
              "      <td>0</td>\n",
              "      <td>0</td>\n",
              "      <td>0</td>\n",
              "      <td>0</td>\n",
              "      <td>0</td>\n",
              "      <td>0</td>\n",
              "      <td>0</td>\n",
              "      <td>0</td>\n",
              "      <td>0</td>\n",
              "      <td>1</td>\n",
              "      <td>0</td>\n",
              "      <td>0</td>\n",
              "      <td>0</td>\n",
              "      <td>0</td>\n",
              "      <td>0</td>\n",
              "      <td>0</td>\n",
              "      <td>0</td>\n",
              "      <td>0</td>\n",
              "      <td>0</td>\n",
              "      <td>0</td>\n",
              "      <td>0</td>\n",
              "      <td>0</td>\n",
              "      <td>0</td>\n",
              "      <td>0</td>\n",
              "    </tr>\n",
              "  </tbody>\n",
              "</table>\n",
              "</div>"
            ],
            "text/plain": [
              "      neutral  score  home  ...  Western Australia  Yemen  Friendly\n",
              "3731        0      6     1  ...                  0      0         1\n",
              "3955        0      1     1  ...                  0      0         0\n",
              "4228        1     -4     0  ...                  0      0         0\n",
              "4231        1     -3     0  ...                  0      0         0\n",
              "4245        1      0     0  ...                  0      0         0\n",
              "\n",
              "[5 rows x 49 columns]"
            ]
          },
          "metadata": {
            "tags": []
          },
          "execution_count": 61
        }
      ]
    },
    {
      "cell_type": "code",
      "metadata": {
        "colab": {
          "base_uri": "https://localhost:8080/"
        },
        "id": "Da97bzJUVfg2",
        "outputId": "ea652206-d4e4-4ee2-ea8a-4962a7fef27b"
      },
      "source": [
        "Y.shape,X.shape"
      ],
      "execution_count": 63,
      "outputs": [
        {
          "output_type": "execute_result",
          "data": {
            "text/plain": [
              "((228,), (228, 49))"
            ]
          },
          "metadata": {
            "tags": []
          },
          "execution_count": 63
        }
      ]
    },
    {
      "cell_type": "code",
      "metadata": {
        "id": "X3EcXagBoTSl"
      },
      "source": [
        "Y = np.where(Y==\"win\", 0, Y)\n",
        "Y = np.where(Y==\"lose\", 1, Y)\n",
        "Y = np.where(Y==\"draw\", 2, Y)"
      ],
      "execution_count": 71,
      "outputs": []
    },
    {
      "cell_type": "code",
      "metadata": {
        "id": "LHRAiECqbB71"
      },
      "source": [
        "Counter(Y)\n",
        "Y=Y.astype('int')"
      ],
      "execution_count": 92,
      "outputs": []
    },
    {
      "cell_type": "code",
      "metadata": {
        "colab": {
          "base_uri": "https://localhost:8080/"
        },
        "id": "-oWMm5f_fQt1",
        "outputId": "32f33c6c-a7fa-4942-a4e8-9cba306cd3a4"
      },
      "source": [
        "\n",
        "## RandomOverSampler to handle imbalanced data\n",
        "\n",
        "from imblearn.over_sampling import RandomOverSampler\n",
        "from imblearn.over_sampling import SMOTE\n",
        "strategy = {0:149, 1:149, 2:149}\n",
        "oversample = SMOTE(sampling_strategy=strategy)\n",
        "X_res, Y_res = oversample.fit_resample(X, Y)"
      ],
      "execution_count": 93,
      "outputs": [
        {
          "output_type": "stream",
          "text": [
            "/usr/local/lib/python3.7/dist-packages/sklearn/utils/deprecation.py:87: FutureWarning: Function safe_indexing is deprecated; safe_indexing is deprecated in version 0.22 and will be removed in version 0.24.\n",
            "  warnings.warn(msg, category=FutureWarning)\n",
            "/usr/local/lib/python3.7/dist-packages/sklearn/utils/deprecation.py:87: FutureWarning: Function safe_indexing is deprecated; safe_indexing is deprecated in version 0.22 and will be removed in version 0.24.\n",
            "  warnings.warn(msg, category=FutureWarning)\n"
          ],
          "name": "stderr"
        }
      ]
    },
    {
      "cell_type": "code",
      "metadata": {
        "colab": {
          "base_uri": "https://localhost:8080/"
        },
        "id": "zmNSMU2xZQWT",
        "outputId": "6b83ddf7-403f-4481-9408-7b8162930186"
      },
      "source": [
        "X_res"
      ],
      "execution_count": 78,
      "outputs": [
        {
          "output_type": "execute_result",
          "data": {
            "text/plain": [
              "array([[ 0,  6,  1, ...,  0,  0,  1],\n",
              "       [ 0,  1,  1, ...,  0,  0,  0],\n",
              "       [ 1, -4,  0, ...,  0,  0,  0],\n",
              "       ...,\n",
              "       [ 0,  0,  0, ...,  0,  0,  0],\n",
              "       [ 0,  0,  1, ...,  0,  0,  0],\n",
              "       [ 1,  0,  0, ...,  0,  0,  0]])"
            ]
          },
          "metadata": {
            "tags": []
          },
          "execution_count": 78
        }
      ]
    },
    {
      "cell_type": "code",
      "metadata": {
        "id": "yR1KGXsCgiOO"
      },
      "source": [
        "from sklearn.model_selection import train_test_split\n",
        "X_train,X_test,Y_train,Y_test=train_test_split(X_res,Y_res,test_size=0.3)"
      ],
      "execution_count": 94,
      "outputs": []
    },
    {
      "cell_type": "code",
      "metadata": {
        "colab": {
          "base_uri": "https://localhost:8080/"
        },
        "id": "bQ_wb_C0bhqF",
        "outputId": "e5eb6d4b-305a-4f3e-9b98-9d2124ae9044"
      },
      "source": [
        "X_train.shape,Y_train.shape"
      ],
      "execution_count": 95,
      "outputs": [
        {
          "output_type": "execute_result",
          "data": {
            "text/plain": [
              "((312, 49), (312,))"
            ]
          },
          "metadata": {
            "tags": []
          },
          "execution_count": 95
        }
      ]
    },
    {
      "cell_type": "code",
      "metadata": {
        "id": "UXv97IZzb8_J"
      },
      "source": [
        ""
      ],
      "execution_count": null,
      "outputs": []
    },
    {
      "cell_type": "code",
      "metadata": {
        "id": "qaOSbkL4biwv"
      },
      "source": [
        "from sklearn.linear_model import LogisticRegression\n",
        "from sklearn.ensemble import RandomForestClassifier\n",
        "from sklearn.naive_bayes import GaussianNB\n",
        "from sklearn.tree import DecisionTreeClassifier"
      ],
      "execution_count": 96,
      "outputs": []
    },
    {
      "cell_type": "code",
      "metadata": {
        "colab": {
          "base_uri": "https://localhost:8080/"
        },
        "id": "6HDXZIqub_7D",
        "outputId": "af8e875f-89ec-4c96-cdcc-67b77acfc2a6"
      },
      "source": [
        "model=GaussianNB()\n",
        "model.fit(X_train,Y_train)"
      ],
      "execution_count": 107,
      "outputs": [
        {
          "output_type": "execute_result",
          "data": {
            "text/plain": [
              "GaussianNB(priors=None, var_smoothing=1e-09)"
            ]
          },
          "metadata": {
            "tags": []
          },
          "execution_count": 107
        }
      ]
    },
    {
      "cell_type": "code",
      "metadata": {
        "colab": {
          "base_uri": "https://localhost:8080/"
        },
        "id": "ZwYERcWOcTf-",
        "outputId": "17b44821-3ffd-431b-aef5-0ad42770eb6c"
      },
      "source": [
        "model.score(X_test,Y_test)"
      ],
      "execution_count": 108,
      "outputs": [
        {
          "output_type": "execute_result",
          "data": {
            "text/plain": [
              "0.5333333333333333"
            ]
          },
          "metadata": {
            "tags": []
          },
          "execution_count": 108
        }
      ]
    },
    {
      "cell_type": "code",
      "metadata": {
        "colab": {
          "base_uri": "https://localhost:8080/"
        },
        "id": "iGkjNdsqcX0k",
        "outputId": "96f3aa1e-aab9-4952-f1af-d81d6385d43d"
      },
      "source": [
        "model1=RandomForestClassifier()\n",
        "model1.fit(X_train,Y_train)\n",
        "model1.score(X_test,Y_test)"
      ],
      "execution_count": 100,
      "outputs": [
        {
          "output_type": "execute_result",
          "data": {
            "text/plain": [
              "1.0"
            ]
          },
          "metadata": {
            "tags": []
          },
          "execution_count": 100
        }
      ]
    },
    {
      "cell_type": "code",
      "metadata": {
        "colab": {
          "base_uri": "https://localhost:8080/"
        },
        "id": "3ui3_JemdGgj",
        "outputId": "6eb12305-ced1-447d-c789-fcbf5ed29d70"
      },
      "source": [
        "model1.score(X_test,Y_test)"
      ],
      "execution_count": 103,
      "outputs": [
        {
          "output_type": "execute_result",
          "data": {
            "text/plain": [
              "1.0"
            ]
          },
          "metadata": {
            "tags": []
          },
          "execution_count": 103
        }
      ]
    },
    {
      "cell_type": "code",
      "metadata": {
        "colab": {
          "base_uri": "https://localhost:8080/"
        },
        "id": "NbhOTr5WdJ0m",
        "outputId": "5b4c5eae-1f25-4ea9-9c05-3ceb096835fa"
      },
      "source": [
        "model1.predict([X_test[1]])"
      ],
      "execution_count": 105,
      "outputs": [
        {
          "output_type": "execute_result",
          "data": {
            "text/plain": [
              "array([1])"
            ]
          },
          "metadata": {
            "tags": []
          },
          "execution_count": 105
        }
      ]
    },
    {
      "cell_type": "code",
      "metadata": {
        "colab": {
          "base_uri": "https://localhost:8080/"
        },
        "id": "fndoyrJSdRXR",
        "outputId": "b76d8210-73a3-48ca-a172-2a0db2c911b1"
      },
      "source": [
        "model2=LogisticRegression()\n",
        "model2.fit(X_train,Y_train)\n",
        "model2.score(X_test,Y_test)"
      ],
      "execution_count": 106,
      "outputs": [
        {
          "output_type": "execute_result",
          "data": {
            "text/plain": [
              "1.0"
            ]
          },
          "metadata": {
            "tags": []
          },
          "execution_count": 106
        }
      ]
    },
    {
      "cell_type": "code",
      "metadata": {
        "id": "OzMHHvQUde61"
      },
      "source": [
        ""
      ],
      "execution_count": null,
      "outputs": []
    }
  ]
}